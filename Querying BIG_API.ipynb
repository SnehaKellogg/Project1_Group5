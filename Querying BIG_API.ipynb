{
 "cells": [
  {
   "cell_type": "code",
   "execution_count": 7,
   "metadata": {},
   "outputs": [
    {
     "ename": "NameError",
     "evalue": "name 'HAS_GOOGLE_AUTH' is not defined",
     "output_type": "error",
     "traceback": [
      "\u001b[1;31m---------------------------------------------------------------------------\u001b[0m",
      "\u001b[1;31mNameError\u001b[0m                                 Traceback (most recent call last)",
      "\u001b[1;32m<ipython-input-7-57e5def692d9>\u001b[0m in \u001b[0;36m<module>\u001b[1;34m\u001b[0m\n\u001b[0;32m     32\u001b[0m \u001b[1;33m\u001b[0m\u001b[0m\n\u001b[0;32m     33\u001b[0m \u001b[1;33m\u001b[0m\u001b[0m\n\u001b[1;32m---> 34\u001b[1;33m \u001b[0mwith_scopes\u001b[0m\u001b[1;33m(\u001b[0m\u001b[1;34m'x'\u001b[0m\u001b[1;33m,\u001b[0m\u001b[1;34m'y'\u001b[0m\u001b[1;33m)\u001b[0m\u001b[1;33m\u001b[0m\u001b[1;33m\u001b[0m\u001b[0m\n\u001b[0m\u001b[0;32m     35\u001b[0m \u001b[1;31m# https://www.kaggle.com/sohier/introduction-to-the-bq-helper-package\u001b[0m\u001b[1;33m\u001b[0m\u001b[1;33m\u001b[0m\u001b[1;33m\u001b[0m\u001b[0m\n\u001b[0;32m     36\u001b[0m \u001b[1;31m# https://github.com/SohierDane/BigQuery_Helper/blob/master/bq_helper.py\u001b[0m\u001b[1;33m\u001b[0m\u001b[1;33m\u001b[0m\u001b[1;33m\u001b[0m\u001b[0m\n",
      "\u001b[1;32m<ipython-input-7-57e5def692d9>\u001b[0m in \u001b[0;36mwith_scopes\u001b[1;34m(credentials, scopes)\u001b[0m\n\u001b[0;32m     18\u001b[0m             oauth2client.client.Credentials]: The scoped credentials.\n\u001b[0;32m     19\u001b[0m     \"\"\"\n\u001b[1;32m---> 20\u001b[1;33m     if HAS_GOOGLE_AUTH and isinstance(\n\u001b[0m\u001b[0;32m     21\u001b[0m             credentials, google.auth.credentials.Credentials):\n\u001b[0;32m     22\u001b[0m         return google.auth.credentials.with_scopes_if_required(\n",
      "\u001b[1;31mNameError\u001b[0m: name 'HAS_GOOGLE_AUTH' is not defined"
     ]
    }
   ],
   "source": [
    "from google.cloud import bigquery\n",
    "import pandas as pd\n",
    "import os\n",
    "from bq_helper import BigQueryHelper as bqh\n",
    "\n",
    "\n",
    "# https://www.kaggle.com/sohier/introduction-to-the-bq-helper-package\n",
    "# https://github.com/SohierDane/BigQuery_Helper/blob/master/bq_helper.py\n",
    "\n",
    "# Establish Helper Object for data scanning\n",
    "bq_assistant = bqh(\"bigquery-public-data\", \"google_analytics_sample\")\n",
    "\n",
    "# Another example of how to get the data\n",
    "# bq_assistant = BigQueryHelper(\"bigquery-public-data\", \"google_analytics_sample\")\n",
    "\n",
    "# Create list of tables to later assist with queries\n",
    "tablelist = google_analytics.list_tables()\n",
    "print(max(tablelist))\n",
    "print(\"First table:\", tablelist[0],\"  Last table:\", tablelist[-1])"
   ]
  },
  {
   "cell_type": "code",
   "execution_count": null,
   "metadata": {},
   "outputs": [],
   "source": [
    "# class google.cloud.bigquery.client.Client(project=project_id, credentials=None, _http=None, \n",
    "#                                           location=None, default_query_job_config=None)\n"
   ]
  }
 ],
 "metadata": {
  "kernelspec": {
   "display_name": "Python 3",
   "language": "python",
   "name": "python3"
  },
  "language_info": {
   "codemirror_mode": {
    "name": "ipython",
    "version": 3
   },
   "file_extension": ".py",
   "mimetype": "text/x-python",
   "name": "python",
   "nbconvert_exporter": "python",
   "pygments_lexer": "ipython3",
   "version": "3.7.1"
  }
 },
 "nbformat": 4,
 "nbformat_minor": 2
}
